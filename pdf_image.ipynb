{
 "cells": [
  {
   "cell_type": "code",
   "execution_count": null,
   "metadata": {},
   "outputs": [],
   "source": [
    "from pathlib import Path\n",
    "from pdf2image import convert_from_path\n",
    "\n",
    "\n",
    "def pdf_image(pdf_file,img_path, fmt='jpeg', dpi=200):\n",
    "    \"\"\"\n",
    "    pdf_file: \n",
    "    img_path: output holder name\n",
    "    example:\n",
    "    pdf_file=\"./data/abcd.pdf\", img_path='./image\"\n",
    "    またはPathでもよい。\n",
    "    \n",
    "    \"\"\"\n",
    "    #pdf_fileをPathにする\n",
    "    pdf_path = Path(pdf_file)\n",
    "    image_dir = Path(img_path)\n",
    "    \n",
    "    # PDF -> Image に変換\n",
    "    pages = convert_from_path(pdf_path, dpi)\n",
    "    \n",
    "    # 画像ファイルを１ページずつ保存\n",
    "    for i, page in enumerate(pages):\n",
    "        file_name = \"{}_{:02d}.{}\".format(pdf_path.stem,i+1,fmt)\n",
    "        image_path = image_dir / file_name\n",
    "        page.save(image_path, fmt)\n"
   ]
  },
  {
   "cell_type": "code",
   "execution_count": null,
   "metadata": {},
   "outputs": [],
   "source": [
    "\n",
    "# PDFファイルのパス\n",
    "pdf_path = Path(\"./data\")\n",
    "pdf_paths = list(pdf_path.glob(\"*\"))\n",
    "img_path=Path(\"./image\")\n",
    "\n",
    "print(pdf_paths)\n",
    "for i in pdf_paths:\n",
    "    pdf_image(pdf_file=i,img_path=img_path, fmt='jpeg', dpi=150)"
   ]
  },
  {
   "cell_type": "code",
   "execution_count": null,
   "metadata": {},
   "outputs": [],
   "source": []
  }
 ],
 "metadata": {
  "language_info": {
   "codemirror_mode": {
    "name": "ipython",
    "version": 3
   },
   "file_extension": ".py",
   "mimetype": "text/x-python",
   "name": "python",
   "nbconvert_exporter": "python",
   "pygments_lexer": "ipython3",
   "version": "3.7.6-final"
  },
  "orig_nbformat": 2,
  "kernelspec": {
   "name": "python37164bitbaseconda2296c55bc3d54a76b568d97b2254b441",
   "display_name": "Python 3.7.1 64-bit ('base': conda)"
  }
 },
 "nbformat": 4,
 "nbformat_minor": 2
}